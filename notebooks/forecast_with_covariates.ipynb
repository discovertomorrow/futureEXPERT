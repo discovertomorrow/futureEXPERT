{
 "cells": [
  {
   "cell_type": "markdown",
   "metadata": {},
   "source": [
    "# _EXPERT_ usage reference: Forecasting with covariates"
   ]
  },
  {
   "cell_type": "markdown",
   "metadata": {},
   "source": [
    "## Log in to the _EXPERT_ client\n",
    "Initialize the client. You can either enter your credentials here or store them in the .env file.\n",
    "\n",
    "If you are using _EXPERT_ for the first time, we recommend that you begin with [Getting Started](simple_workflow.ipynb)"
   ]
  },
  {
   "cell_type": "code",
   "execution_count": null,
   "metadata": {},
   "outputs": [],
   "source": [
    "from futureexpert import (ActualsCovsConfiguration,\n",
    "                          CovariateRef,\n",
    "                          DataDefinition,\n",
    "                          ExpertClient,\n",
    "                          FileSpecification,\n",
    "                          ForecastingConfig,\n",
    "                          PreprocessingConfig,\n",
    "                          ReportConfig,\n",
    "                          TsCreationConfig)\n",
    "\n",
    "client = ExpertClient(user='', password='')"
   ]
  },
  {
   "cell_type": "markdown",
   "metadata": {},
   "source": [
    "### Configure and run _FORECAST_ with covariates\n",
    "\n",
    "In some cases, it is advantageous to include additional data as influencing variables in the model. In the example of bicycle data on a daily basis, for demonstration purposes, we show the inclustion of only one covariate &ndash; working days &ndash; although holidays and weather data is increasing the forecast quality as well.\n",
    "\n",
    "In order to generate a forecast which takes covariates into account, create the covariates first. Define a data definition and a time series creation config similar as for the forecasting data.\n",
    "\n",
    "The returned identification number must then be added to the report configuration.\n",
    "\n",
    "You can use the [MATCHER](notebooks/cov_matcher_and_forecast.ipynb) to calculate the best lags for each covariate and create a ranking of each covariate based on their predictive power."
   ]
  },
  {
   "cell_type": "code",
   "execution_count": null,
   "metadata": {},
   "outputs": [],
   "source": [
    "import futureexpert.checkin as checkin\n",
    "\n",
    "# Upload Working Days to use them as covariate\n",
    "covs_check_in_results = client.check_in_time_series(raw_data_source='../example_data/working_days_bavaria.csv',\n",
    "                                                    data_definition=DataDefinition(date_columns=checkin.DateColumn(name='time', format='%Y-%m-%d'),\n",
    "                                                                                   value_columns=[checkin.ValueColumn(name='value', name_new='working days bavaria')]),\n",
    "                                                    config_ts_creation=TsCreationConfig(time_granularity='daily',\n",
    "                                                                                        value_columns_to_save=['working days bavaria']),\n",
    "                                                    file_specification=FileSpecification(delimiter=';', decimal=','))\n",
    "\n",
    "\n",
    "# check in the data you want to forecast\n",
    "ts_check_in_results = client.check_in_time_series(raw_data_source='../example_data/bicycle_data_single.csv',\n",
    "                                                  data_definition=DataDefinition(date_columns=checkin.DateColumn(name='date', format='%Y-%m-%d'),\n",
    "                                                                                 value_columns=[checkin.ValueColumn(name='value', name_new='bicycle count')]),\n",
    "                                                  config_ts_creation=TsCreationConfig(time_granularity='daily', value_columns_to_save=['bicycle count']))\n",
    "\n",
    "# Create the covariate configuration\n",
    "# the name of the actuals and covariate time series can be found in the results from check_in_time_series\n",
    "covs_configuration = [ActualsCovsConfiguration(actuals_name='bicycle count', covs_configurations=[\n",
    "                                               CovariateRef(name='working days bavaria', lag=0)])]\n",
    "\n",
    "fc_report_config = ReportConfig(title='My first report with covariate',\n",
    "                                covs_versions=[covs_check_in_results.version_id],\n",
    "                                covs_configuration=covs_configuration,\n",
    "                                forecasting=ForecastingConfig(fc_horizon=3,\n",
    "                                                              confidence_level=0.95),\n",
    "                                preprocessing=PreprocessingConfig(use_season_detection=True,\n",
    "                                                                  detect_outliers=True,\n",
    "                                                                  replace_outliers=True)\n",
    "                                )\n",
    "\n",
    "forecast_identifier = client.start_forecast(version=ts_check_in_results.version_id, config=fc_report_config)"
   ]
  },
  {
   "cell_type": "code",
   "execution_count": null,
   "metadata": {},
   "outputs": [],
   "source": [
    "import time\n",
    "# Watch the current status of the forecasting report\n",
    "while not (current_status := client.get_report_status(id=forecast_identifier)).is_finished:\n",
    "    current_status.print()\n",
    "    print('Waiting another 30 seconds to finish forecasting...')\n",
    "    time.sleep(30)  # Wait between status requests\n",
    "\n",
    "current_status.print()\n",
    "\n",
    "# Retrieve the final results\n",
    "results = client.get_fc_results(id=forecast_identifier, include_backtesting=True, include_k_best_models=100)"
   ]
  }
 ],
 "metadata": {
  "kernelspec": {
   "display_name": "Python 3",
   "language": "python",
   "name": "python3"
  },
  "language_info": {
   "codemirror_mode": {
    "name": "ipython",
    "version": 3
   },
   "file_extension": ".py",
   "mimetype": "text/x-python",
   "name": "python",
   "nbconvert_exporter": "python",
   "pygments_lexer": "ipython3",
   "version": "3.12.6"
  }
 },
 "nbformat": 4,
 "nbformat_minor": 2
}

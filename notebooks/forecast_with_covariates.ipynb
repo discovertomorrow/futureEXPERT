{
 "cells": [
  {
   "cell_type": "markdown",
   "metadata": {},
   "source": [
    "# futureEXPERT usage reference: Forecasting with covariates"
   ]
  },
  {
   "cell_type": "markdown",
   "metadata": {},
   "source": [
    "## Log in to the _futureEXPERT_ client\n",
    "_futureEXPERT_ needs credentials to authenticate you. So, to log in, you need to create an authenticated client which handles all interactions with the _future_ platform.\n",
    "\n",
    "If you do not yet have an account for the _future_ platform, you can apply for a trial account [here](https://www.prognostica.de/de/future.html).\n",
    "\n",
    "Additionally, if you are not subscribed for futureEXPERT, please contact us at support@future.prognostica.de\n",
    "\n",
    "If you are using futureEXPERT for the first time, we recommend that you begin with [Getting Started](simple_workflow.ipynb)"
   ]
  },
  {
   "cell_type": "code",
   "execution_count": null,
   "metadata": {},
   "outputs": [],
   "source": [
    "from futureexpert import ExpertClient\n",
    "\n",
    "# You can provide your credentials from an .env file (see .env.example)\n",
    "import dotenv\n",
    "dotenv.load_dotenv()\n",
    "\n",
    "# Log in using your credentials or alternatively provide FUTURE_USER and FUTURE_PW via environment variables or .env file\n",
    "client = ExpertClient(user='', password='')"
   ]
  },
  {
   "cell_type": "markdown",
   "metadata": {},
   "source": [
    "### Configure and run forecasting with covariates\n",
    "\n",
    "In some cases, it is advantageous to include additional data as influencing variables in the model. In the example of bicycle data on a daily basis, for demonstration purposes, we show the inclustion of only one covariate &ndash; working days &ndash; although holidays and weather data is increasing the forecast quality as well.\n",
    "\n",
    "In order to generate a forecast which takes covariates into account, create the covariates first. Only seven covariates are used for the forecast. Define a data definition and a time series creation config similar as for the forecasting data.\n",
    "\n",
    "The returned identification number must then be added to the report configuration.\n",
    "\n",
    "You can use the [futureMATCHER](notebooks/cov_matcher_and_forecast.ipynb) to calculate the best lags for each covariate and create a ranking of each covariate based on their predictive power."
   ]
  },
  {
   "cell_type": "code",
   "execution_count": null,
   "metadata": {},
   "outputs": [],
   "source": [
    "from futureexpert import *\n",
    "\n",
    "# Upload Working Days to use them as covariate\n",
    "covs_check_in_results = client.check_in_time_series(raw_data_source='../example-data/working_days_bavaria.csv',\n",
    "                                                    data_definition=DataDefinition(date_columns=DateColumn(name='time', format='%Y-%m-%d'),\n",
    "                                                                                   value_columns=[ValueColumn(name='value')]),\n",
    "                                                    config_ts_creation=TsCreationConfig(time_granularity='daily',\n",
    "                                                                                        value_columns_to_save=['value']),\n",
    "                                                    file_specification=FileSpecification(delimiter=';', decimal=','))\n",
    "\n",
    "\n",
    "# check in the data you want to forecast\n",
    "ts_check_in_results = client.check_in_time_series(raw_data_source='../example-data/bicycle_data_single.csv',\n",
    "                                                  data_definition=DataDefinition(date_columns=DateColumn(name='date', format='%Y-%m-%d'),\n",
    "                                                                                 value_columns=[ValueColumn(name='value')]),\n",
    "                                                  config_ts_creation=TsCreationConfig(time_granularity='daily', value_columns_to_save=['value']))\n",
    "\n",
    "# Create the covariate configuration\n",
    "covs_configuration = [ActualsCovsConfiguration(actuals_name='time series', covs_configurations=[\n",
    "                                               CovariateRef(name='time series', lag=0)])]\n",
    "\n",
    "fc_report_config = ReportConfig(title='My first report with covariate',\n",
    "                                covs_version=covs_check_in_results.version_id, covs_configuration=covs_configuration,\n",
    "                                forecasting=ForecastingConfig(fc_horizon=3,\n",
    "                                                              confidence_level=0.95),\n",
    "                                preprocessing=PreprocessingConfig(use_season_detection=True,\n",
    "                                                                  detect_outliers=True,\n",
    "                                                                  replace_outliers=True)\n",
    "                                )\n",
    "\n",
    "forecast_identifier = client.start_forecast(version=ts_check_in_results.version_id, config=fc_report_config)"
   ]
  },
  {
   "cell_type": "code",
   "execution_count": null,
   "metadata": {},
   "outputs": [],
   "source": [
    "import time\n",
    "# Watch the current status of the forecasting report\n",
    "while not (current_status := client.get_report_status(id=forecast_identifier)).is_finished:\n",
    "    current_status.print()\n",
    "    print('Waiting another 30 seconds to finish forecasting...')\n",
    "    time.sleep(30)  # Wait between status requests\n",
    "\n",
    "current_status.print()\n",
    "\n",
    "# Retrieve the final results\n",
    "results = client.get_fc_results(id=forecast_identifier, include_backtesting=True, include_k_best_models=100)"
   ]
  }
 ],
 "metadata": {
  "kernelspec": {
   "display_name": "Python 3",
   "language": "python",
   "name": "python3"
  },
  "language_info": {
   "codemirror_mode": {
    "name": "ipython",
    "version": 3
   },
   "file_extension": ".py",
   "mimetype": "text/x-python",
   "name": "python",
   "nbconvert_exporter": "python",
   "pygments_lexer": "ipython3",
   "version": "3.9.2"
  }
 },
 "nbformat": 4,
 "nbformat_minor": 2
}

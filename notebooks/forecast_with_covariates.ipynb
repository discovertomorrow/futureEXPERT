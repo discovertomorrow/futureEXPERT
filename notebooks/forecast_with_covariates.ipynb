{
 "cells": [
  {
   "cell_type": "markdown",
   "metadata": {},
   "source": [
    "# futureEXPERT usage reference: Forecasting with covariates"
   ]
  },
  {
   "cell_type": "markdown",
   "metadata": {},
   "source": [
    "## Log in to the _futureEXPERT_ client\n",
    "_futureEXPERT_ needs credentials to authenticate you. So, to log in, you need to create an authenticated client which handles all interactions with the _future_ platform.\n",
    "\n",
    "If you do not yet have an account for the _future_ platform, you can apply for a trial account [here](https://www.prognostica.de/de/future.html).\n",
    "\n",
    "Additionally, if you are not subscribed for futureEXPERT, please contact us at support@future.prognostica.de\n",
    "\n",
    "If you are using futureEXPERT for the first time, we recommend that you begin with [Getting Started](simple_workflow.ipynb)"
   ]
  },
  {
   "cell_type": "code",
   "execution_count": null,
   "metadata": {},
   "outputs": [],
   "source": [
    "from futureexpert import ExpertClient\n",
    "\n",
    "# You can provide your credentials from an .env file (see .env.example)\n",
    "import dotenv\n",
    "dotenv.load_dotenv()\n",
    "\n",
    "# Log in using your credentials or alternatively provide FUTURE_USER and FUTURE_PW via environment variables or .env file\n",
    "client = ExpertClient(user='', password='')"
   ]
  },
  {
   "cell_type": "markdown",
   "metadata": {},
   "source": [
    "### Configure and run forecasting with covariates\n",
    "\n",
    "In some cases, it is advantageous to include additional data as influencing variables in the model. In the example of bicycle data on a daily basis, for demonstration purposes, we show the inclustion of only one covariate &ndash; working days &ndash; although holidays and weather data is increasing the forecast quality as well.\n",
    "\n",
    "In order to generate a forecast which takes covariates into account, create the covariates first. Define a data definition and a time series creation config similar as for the forecasting data.\n",
    "\n",
    "The returned identification number must then be added to the report configuration.\n",
    "\n",
    "You can use the [futureMATCHER](notebooks/cov_matcher_and_forecast.ipynb) to calculate the best lags for each covariate and create a ranking of each covariate based on their predictive power."
   ]
  },
  {
   "cell_type": "code",
   "execution_count": null,
   "metadata": {},
   "outputs": [],
   "source": [
    "from futureexpert import *\n",
    "\n",
    "# Upload Working Days to use them as covariate\n",
    "covs_version = client.check_in_time_series(raw_data_source='../example-data/working_days_bavaria.csv',\n",
    "                                          data_definition=DataDefinition(date_columns=DateColumn(name='time', format='%Y-%m-%d'),\n",
    "                                                                         value_columns=[ValueColumn(name='value')]),\n",
    "                                          config_ts_creation=TsCreationConfig(time_granularity='daily',\n",
    "                                                                              value_columns_to_save=['value']),\n",
    "                                          file_specification=FileSpecification(delimiter=';', decimal=','))\n",
    "\n",
    "# Create the configuaration for the data you want to forecast\n",
    "data_definition = DataDefinition(date_columns=DateColumn(name='date', format='%Y-%m-%d'),\n",
    "                                 value_columns=[ValueColumn(name='value')])\n",
    "\n",
    "config_2 = TsCreationConfig(time_granularity='daily', value_columns_to_save=['value'])\n",
    "\n",
    "fc_report_config = ReportConfig(title='My first report with covariate',\n",
    "                                covs_version=covs_version, covs_lag=0,  # add\n",
    "                                forecasting=ForecastingConfig(fc_horizon=3,\n",
    "                                                              confidence_level=0.95),\n",
    "                                preprocessing=PreprocessingConfig(use_season_detection=True,\n",
    "                                                                  detect_outliers=True,\n",
    "                                                                  replace_outliers=True)\n",
    "                                )\n",
    "\n",
    "forecast_identifier = client.create_forecast_from_raw_data(raw_data_source='../example-data/bicycle_data_single.csv',\n",
    "                                                           data_definition=data_definition,\n",
    "                                                           config_ts_creation=config_2,\n",
    "                                                           config_fc=fc_report_config)\n",
    "client.get_report_status(forecast_identifier).print()"
   ]
  }
 ],
 "metadata": {
  "kernelspec": {
   "display_name": "Python 3",
   "language": "python",
   "name": "python3"
  },
  "language_info": {
   "codemirror_mode": {
    "name": "ipython",
    "version": 3
   },
   "file_extension": ".py",
   "mimetype": "text/x-python",
   "name": "python",
   "nbconvert_exporter": "python",
   "pygments_lexer": "ipython3",
   "version": "3.9.17"
  }
 },
 "nbformat": 4,
 "nbformat_minor": 2
}

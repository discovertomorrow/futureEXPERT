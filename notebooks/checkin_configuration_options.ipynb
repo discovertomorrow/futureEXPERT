{
 "cells": [
  {
   "cell_type": "markdown",
   "metadata": {},
   "source": [
    "# futureEXPERT check-in options\n",
    "\n",
    "The [getting started notebook](./getting_started.ipynb) shows the most simple approach to check in time series for futureEXPERT. In this notebook you can find various ways to check in your data."
   ]
  },
  {
   "cell_type": "markdown",
   "metadata": {},
   "source": [
    "## Prerequisites for running this notebook\n",
    "Login with your account and create a forecasting configuration. For details and configuration options please have a look at the [getting started notebook](./getting_started.ipynb) or other more advanced notebooks."
   ]
  },
  {
   "cell_type": "code",
   "execution_count": null,
   "metadata": {},
   "outputs": [],
   "source": [
    "from futureexpert import *\n",
    "\n",
    "client = ExpertClient.from_dotenv()\n",
    "fc_report_config = ReportConfig(title='My first report',\n",
    "                                forecasting=ForecastingConfig(fc_horizon=7),\n",
    "                                preprocessing=PreprocessingConfig(),\n",
    "                                method_selection=MethodSelectionConfig(number_iterations=8))"
   ]
  },
  {
   "cell_type": "markdown",
   "metadata": {},
   "source": [
    "## Option 1: Check-in your time series via the _future_ frontend\n",
    "\n",
    "Check in your time series for futureEXPERT in the _future_ frontend https://future.prognostica.de:\n",
    "\n",
    "1. Upload your data using Python or the future frontend.\n",
    "2. Navigate to 'My Data' in future frontend.\n",
    "3. Start the futureCHECK-IN process from a file.\n",
    "4. Follow along the futureCHECK-IN steps in the frontend.\n",
    "5. Click on 'Continue with...' and 'Forecast via EXPERT' and copy the version ID.\n",
    "\n",
    "You can then use your checked-in data for forecasting in futureEXPERT."
   ]
  },
  {
   "cell_type": "code",
   "execution_count": null,
   "metadata": {},
   "outputs": [],
   "source": [
    "ts_version = 'TBD' # replace with your version\n",
    "\n",
    "# Request forecast creation and retrieve the id for status requests and result retrieval\n",
    "forecast_identifier_from_version_id = client.start_forecast(version=ts_version, config=fc_report_config)"
   ]
  },
  {
   "cell_type": "markdown",
   "metadata": {},
   "source": [
    "### Option 2: Use the check-in configuration file from the _future_ frontend\n",
    "\n",
    "#### Get a check-in configuration file\n",
    "\n",
    "Use a check-in configuration file generated during the CHECK-IN process in the _future_ frontend https://future.prognostica.de:\n",
    "\n",
    "1. Upload your data using Python or the future frontend.\n",
    "2. Navigate to 'My Data' in future frontend.\n",
    "3. Start the futureCHECK-IN process from a file.\n",
    "4. Follow along the futureCHECK-IN steps in the frontend.\n",
    "5. Download the configuration at the end.\n",
    "6. Adjust the file pathe in the below code block.\n",
    "\n",
    "You can then reuse your uploaded data with the downloaded futureCHECK-IN configuration for forecasting in futureEXPERT or even reuse the futureCHECK-IN configuration for new data.\n",
    "\n",
    "#### Invoke forecast computation\n",
    "\n",
    "\n"
   ]
  },
  {
   "cell_type": "code",
   "execution_count": null,
   "metadata": {},
   "outputs": [],
   "source": [
    "# Request forecast creation and retrieve the id for status requests and result retrieval\n",
    "forecast_identifier_from_config_file = client.start_forecast_from_raw_data(raw_data_source='../example-data/bicycle_data.csv',\n",
    "                                                                           config_fc=fc_report_config,\n",
    "                                                                           config_checkin='../example-data/config_bicycle_data.json')"
   ]
  },
  {
   "cell_type": "markdown",
   "metadata": {},
   "source": [
    "### Option 3: Configure check-in in code\n",
    "\n",
    "Configure the data definition and time series creation in code.\n",
    "\n",
    "**Note:** The prefered way to configure the data defintion is using the _future_ frontend at https://future.prognostica.de, as it provides the full range of available features, e.g. rules for handling detected data issues, and inclusion and exclusion rules for data preparation."
   ]
  },
  {
   "cell_type": "code",
   "execution_count": 3,
   "metadata": {},
   "outputs": [],
   "source": [
    "data_definition = DataDefinition(\n",
    "    date_columns=DateColumn(name='Date', format='%Y-%m-%d'),\n",
    "    value_columns=[ValueColumn(name='value')],\n",
    "    group_columns=[GroupColumn(name='Name')])\n",
    "\n",
    "ts_creation_config = TsCreationConfig(time_granularity='daily',\n",
    "                                      grouping_level=['Name'],\n",
    "                                      value_columns_to_save=['value'],\n",
    "                                      missing_value_handler='setToZero')\n",
    "\n",
    "\n",
    "# Request forecast creation and retrieve the id for status requests and result retrieval\n",
    "forecast_identifier_from_code_definition = client.start_forecast_from_raw_data(raw_data_source='../example-data/bicycle_data.csv',\n",
    "                                                                               data_definition=data_definition,\n",
    "                                                                               config_ts_creation=ts_creation_config,\n",
    "                                                                               config_fc=fc_report_config,\n",
    "                                                                               file_specification=FileSpecification(delimiter=';', decimal='.'))"
   ]
  },
  {
   "cell_type": "markdown",
   "metadata": {},
   "source": [
    "## Inspect the forecasting results\n",
    "\n",
    "In this case, we first wait for all forecasting results before accessing the results."
   ]
  },
  {
   "cell_type": "code",
   "execution_count": null,
   "metadata": {},
   "outputs": [],
   "source": [
    "import time\n",
    "\n",
    "# Watch the current status of the forecasting report\n",
    "while not all(client.get_report_status(id=forecast_identifier).is_finished for forecast_identifier in [forecast_identifier_from_version_id, forecast_identifier_from_config_file, forecast_identifier_from_code_definition]):\n",
    "    print('Waiting another 30 seconds to finish forecasting...')\n",
    "    time.sleep(30)  # Wait between status requests\n",
    "\n",
    "# Retrieve the final results\n",
    "results_from_version_id = client.get_fc_results(\n",
    "    id=forecast_identifier_from_version_id, include_backtesting=True, include_k_best_models=2)\n",
    "results_from_config_file = client.get_fc_results(\n",
    "    id=forecast_identifier_from_config_file, include_backtesting=True, include_k_best_models=2)\n",
    "results_from_code_definition = client.get_fc_results(\n",
    "    id=forecast_identifier_from_code_definition, include_backtesting=True, include_k_best_models=2)"
   ]
  }
 ],
 "metadata": {
  "kernelspec": {
   "display_name": "Python 3",
   "language": "python",
   "name": "python3"
  },
  "language_info": {
   "codemirror_mode": {
    "name": "ipython",
    "version": 3
   },
   "file_extension": ".py",
   "mimetype": "text/x-python",
   "name": "python",
   "nbconvert_exporter": "python",
   "pygments_lexer": "ipython3",
   "version": "3.12.3"
  }
 },
 "nbformat": 4,
 "nbformat_minor": 2
}

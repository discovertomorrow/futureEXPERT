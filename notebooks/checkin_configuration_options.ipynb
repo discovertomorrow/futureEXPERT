{
 "cells": [
  {
   "cell_type": "markdown",
   "metadata": {},
   "source": [
    "# _EXPERT CHECK-IN_ options\n",
    "\n",
    "The [getting started notebook](./getting_started.ipynb) shows the most simple approach to check in time series for _EXPERT_. In this notebook you can find various ways to check in your data."
   ]
  },
  {
   "cell_type": "markdown",
   "metadata": {},
   "source": [
    "## Prerequisites for running this notebook\n",
    "Login with your account and create a forecasting configuration. For details and configuration options please have a look at the [getting started notebook](./getting_started.ipynb) or other more advanced notebooks."
   ]
  },
  {
   "cell_type": "code",
   "execution_count": null,
   "metadata": {},
   "outputs": [],
   "source": [
    "from futureexpert import (DataDefinition,\n",
    "                          ExpertClient,\n",
    "                          FileSpecification,\n",
    "                          ForecastingConfig,\n",
    "                          MethodSelectionConfig,\n",
    "                          PreprocessingConfig,\n",
    "                          ReportConfig,\n",
    "                          TsCreationConfig)\n",
    "\n",
    "client = ExpertClient.from_dotenv()\n",
    "fc_report_config = ReportConfig(title='My first report',\n",
    "                                forecasting=ForecastingConfig(fc_horizon=7),\n",
    "                                preprocessing=PreprocessingConfig(),\n",
    "                                method_selection=MethodSelectionConfig(number_iterations=8))"
   ]
  },
  {
   "cell_type": "markdown",
   "metadata": {},
   "source": [
    "## Option 1: Check in your time series via the _future_ frontend\n",
    "\n",
    "Check in your time series for _EXPERT_ in the _future_ frontend https://now.future-forecasting.de:\n",
    "\n",
    "1. Upload your data using Python or the future frontend.\n",
    "2. Navigate to 'My Data' in future frontend.\n",
    "3. Start the _CHECK-IN_ process from a file.\n",
    "4. Follow along the _CHECK-IN_ steps in the frontend.\n",
    "5. Click on 'Continue with...' and 'Forecast via _EXPERT_' and copy the version ID.\n",
    "\n",
    "You can then use your checked in data for forecasting in _EXPERT_."
   ]
  },
  {
   "cell_type": "code",
   "execution_count": null,
   "metadata": {},
   "outputs": [],
   "source": [
    "ts_version = 'TBD' # replace with your version\n",
    "\n",
    "# Request forecast creation and retrieve the id for status requests and result retrieval\n",
    "forecast_identifier_from_version_id = client.start_forecast(version=ts_version, config=fc_report_config)"
   ]
  },
  {
   "cell_type": "markdown",
   "metadata": {},
   "source": [
    "### Option 2: Use the _CHECK-IN_ configuration file from the _future_ frontend\n",
    "\n",
    "#### Get a _CHECK-IN_ configuration file\n",
    "\n",
    "Use a _CHECK-IN_ configuration file generated during the _CHECK-IN_ process in the _future_ frontend https://now.future-forecasting.de:\n",
    "\n",
    "1. Upload your data using Python or the future frontend.\n",
    "2. Navigate to 'My Data' in future frontend.\n",
    "3. Start the _CHECK-IN_ process from a file.\n",
    "4. Follow along the _CHECK-IN_ steps in the frontend.\n",
    "5. Download the configuration at the end.\n",
    "6. Adjust the file pathe in the below code block.\n",
    "\n",
    "You can then reuse your uploaded data with the downloaded _CHECK-IN_ configuration for forecasting in _EXPERT_ or even reuse the _CHECK-IN_ configuration for new data.\n",
    "\n",
    "#### Invoke forecast computation"
   ]
  },
  {
   "cell_type": "code",
   "execution_count": null,
   "metadata": {},
   "outputs": [],
   "source": [
    "# Request forecast creation and retrieve the id for status requests and result retrieval\n",
    "forecast_identifier_from_config_file = client.start_forecast_from_raw_data(raw_data_source='../example_data/bicycle_data.csv',\n",
    "                                                                           config_fc=fc_report_config,\n",
    "                                                                           config_checkin='../example_data/config_bicycle_data.json')"
   ]
  },
  {
   "cell_type": "markdown",
   "metadata": {},
   "source": [
    "### Option 3: Configure _CHECK-IN_ in code\n",
    "\n",
    "Configure the data definition and time series creation in code.\n",
    "\n",
    "**Note:** The prefered way to configure the data defintion is using the _future_ frontend at https://now.future-forecasting.de, as it provides the full range of available features, e.g. rules for handling detected data issues, and inclusion and exclusion rules for data preparation."
   ]
  },
  {
   "cell_type": "code",
   "execution_count": 3,
   "metadata": {},
   "outputs": [],
   "source": [
    "import futureexpert.checkin as checkin\n",
    "\n",
    "data_definition = DataDefinition(\n",
    "    date_columns=checkin.DateColumn(name='Date', format='%Y-%m-%d'),\n",
    "    value_columns=[checkin.ValueColumn(name='value')],\n",
    "    group_columns=[checkin.GroupColumn(name='Name')])\n",
    "\n",
    "ts_creation_config = TsCreationConfig(time_granularity='daily',\n",
    "                                      description='bicycle count',\n",
    "                                      grouping_level=['Name'],\n",
    "                                      value_columns_to_save=['value'],\n",
    "                                      missing_value_handler='setToZero')\n",
    "\n",
    "\n",
    "# Request forecast creation and retrieve the id for status requests and result retrieval\n",
    "forecast_identifier_from_code_definition = client.start_forecast_from_raw_data(raw_data_source='../example_data/bicycle_data.csv',\n",
    "                                                                               data_definition=data_definition,\n",
    "                                                                               config_ts_creation=ts_creation_config,\n",
    "                                                                               config_fc=fc_report_config,\n",
    "                                                                               file_specification=FileSpecification(delimiter=';', decimal='.'))"
   ]
  },
  {
   "cell_type": "markdown",
   "metadata": {},
   "source": [
    "### Option 3b: Directly upload your data as a dataframe\n",
    "\n",
    "This is almost identical to option 3 but allows you to start from a dataframe. This dataframe will be uploaded as a csv file and stored in your data."
   ]
  },
  {
   "cell_type": "code",
   "execution_count": null,
   "metadata": {},
   "outputs": [],
   "source": [
    "import pandas as pd\n",
    "\n",
    "raw_data_df = pd.read_csv('../example_data/bicycle_data.csv', sep=';', decimal='.')\n",
    "\n",
    "# Request forecast creation and retrieve the id for status requests and result retrieval\n",
    "forecast_identifier_from_dataframe = client.start_forecast_from_raw_data(raw_data_source=raw_data_df,\n",
    "                                                                         data_definition=data_definition,\n",
    "                                                                         config_ts_creation=ts_creation_config,\n",
    "                                                                         config_fc=fc_report_config,\n",
    "                                                                         file_specification=FileSpecification(delimiter=';', decimal=''))"
   ]
  },
  {
   "cell_type": "markdown",
   "metadata": {},
   "source": [
    "## Get version_id of previous CHECK-IN processes\n",
    "If you have checked in your time series via the _future_ frontend but forgot to copy the version id or you just want to check which data you have already checked in: with `get_ts_versions` you can check all currently checked-in data and receive the version_id."
   ]
  },
  {
   "cell_type": "code",
   "execution_count": null,
   "metadata": {},
   "outputs": [],
   "source": [
    "ts_overview = client.get_ts_versions()\n",
    "ts_overview"
   ]
  },
  {
   "cell_type": "markdown",
   "metadata": {},
   "source": [
    "## Retrieve time series data after CHECK-IN\n",
    "With `get_time_series` you can retrieve the data that you have previously checked in."
   ]
  },
  {
   "cell_type": "code",
   "execution_count": null,
   "metadata": {},
   "outputs": [],
   "source": [
    "results = client.get_time_series(version_id=ts_overview.loc[0, 'version_id'])"
   ]
  },
  {
   "cell_type": "markdown",
   "metadata": {},
   "source": [
    "## Inspect the forecasting results\n",
    "\n",
    "In this case, we first wait for all forecasting results before accessing the results."
   ]
  },
  {
   "cell_type": "code",
   "execution_count": null,
   "metadata": {},
   "outputs": [],
   "source": [
    "import time\n",
    "\n",
    "# Watch the current status of the forecasting report\n",
    "while not all(client.get_report_status(id=forecast_identifier).is_finished for forecast_identifier in [forecast_identifier_from_version_id, forecast_identifier_from_config_file, forecast_identifier_from_code_definition, forecast_identifier_from_dataframe]):\n",
    "    print('Waiting another 30 seconds to finish forecasting...')\n",
    "    time.sleep(30)  # Wait between status requests\n",
    "\n",
    "# Retrieve the final results\n",
    "results_from_version_id = client.get_fc_results(\n",
    "    id=forecast_identifier_from_version_id, include_backtesting=True, include_k_best_models=2)\n",
    "results_from_config_file = client.get_fc_results(\n",
    "    id=forecast_identifier_from_config_file, include_backtesting=True, include_k_best_models=2)\n",
    "results_from_code_definition = client.get_fc_results(\n",
    "    id=forecast_identifier_from_code_definition, include_backtesting=True, include_k_best_models=2)\n",
    "results_from_dataframe = client.get_fc_results(\n",
    "    id=forecast_identifier_from_dataframe, include_backtesting=True, include_k_best_models=2)"
   ]
  }
 ],
 "metadata": {
  "kernelspec": {
   "display_name": "Python 3",
   "language": "python",
   "name": "python3"
  },
  "language_info": {
   "codemirror_mode": {
    "name": "ipython",
    "version": 3
   },
   "file_extension": ".py",
   "mimetype": "text/x-python",
   "name": "python",
   "nbconvert_exporter": "python",
   "pygments_lexer": "ipython3",
   "version": "3.12.7"
  }
 },
 "nbformat": 4,
 "nbformat_minor": 2
}

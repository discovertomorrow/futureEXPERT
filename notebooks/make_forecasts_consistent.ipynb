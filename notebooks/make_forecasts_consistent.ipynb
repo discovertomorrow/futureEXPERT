{
 "cells": [
  {
   "cell_type": "markdown",
   "metadata": {},
   "source": [
    "## Hierarchically consistent forecasting with EXPERT\n",
    "\n",
    "1. We forecast on multiple hierarchical levels with a dataset containing revenues. We will forecast on the country level, the region level and finally one time series which represents the global aggregate.\n",
    "2. After forecasting the time series individually on the three different hierarchical levels, we will reconcile the forecasts to achieve hierarchically consistent forecasts.\n",
    "\n",
    "\n",
    "For more information about this dataset see the [sales forecasting use case](../use_cases/sales_forecasting/sales_forecasting.ipynb)."
   ]
  },
  {
   "cell_type": "code",
   "execution_count": 1,
   "metadata": {},
   "outputs": [
    {
     "name": "stderr",
     "output_type": "stream",
     "text": [
      "INFO:futureexpert.expert_client:Successfully logged in for group group-expert.\n"
     ]
    }
   ],
   "source": [
    "from futureexpert import DataDefinition, ExpertClient, FileSpecification, TsCreationConfig\n",
    "import futureexpert.checkin as checkin\n",
    "import time\n",
    "\n",
    "client = ExpertClient()"
   ]
  },
  {
   "cell_type": "markdown",
   "metadata": {},
   "source": [
    "## CHECK-IN configuration\n",
    "In this step, we transform our CSV data into structured time series. First, we define the data structure. For each column, we specify whether it contains the date, grouping information (in our case hierarchical information about the sales regions), or value data. \n",
    "During the time series creation process, we choose to aggregate the data at the “Region” and “Country” level. We also enable the `save_hierarchy` so the information about the hierarchical structure persists. \n",
    "\n",
    "For more informationa bout the CHECK-IN Process see the [checkin configuration options](./checkin_configuration_options.ipynb)."
   ]
  },
  {
   "cell_type": "code",
   "execution_count": 2,
   "metadata": {},
   "outputs": [
    {
     "name": "stderr",
     "output_type": "stream",
     "text": [
      "INFO:futureexpert.expert_client:Transforming input data...\n",
      "INFO:futureexpert.expert_client:Creating time series using CHECK-IN...\n",
      "INFO:futureexpert.expert_client:Finished time series creation.\n"
     ]
    }
   ],
   "source": [
    "# check in consumptions\n",
    "actuals_version_id = client.check_in_time_series(raw_data_source='../use_cases/sales_forecasting/demo_sales_data.csv',\n",
    "                                                  data_definition=DataDefinition(date_column=checkin.DateColumn(name='Date', format='%d.%m.%Y'),\n",
    "                                                                                 value_columns=[checkin.ValueColumn(name='Sales')],\n",
    "                                                                                 group_columns=[checkin.GroupColumn(name='Region'),\n",
    "                                                                                                checkin.GroupColumn(name='Country')],\n",
    "                                                                                 remove_columns=[3],),\n",
    "                                                  config_ts_creation=TsCreationConfig(time_granularity='monthly',\n",
    "                                                                                      start_date=\"2016-03-01\",\n",
    "                                                                                      value_columns_to_save=['Sales'],\n",
    "                                                                                      grouping_level=['Region', 'Country'],\n",
    "                                                                                      save_hierarchy=True,\n",
    "                                                                                      filter=[checkin.FilterSettings(type='exclusion', variable='Region', items=['Global']),\n",
    "                                                                                              checkin.FilterSettings(type='exclusion', variable='Country', items=['Global'])],\n",
    "                                                                                      missing_value_handler=\"keepNaN\",),\n",
    "                                                  file_specification=FileSpecification(delimiter=';', decimal='.'))"
   ]
  },
  {
   "cell_type": "markdown",
   "metadata": {},
   "source": [
    "## Forecasting\n",
    "\n",
    "With CHECK-IN having prepared our time series, we are ready to configure the FORECAST settings:\n",
    "- We define a set of forecasting methods with fast performances. For more advanced settings and explanations see the [sales forecasting use case](../use_cases/sales_forecasting/sales_forecasting.ipynb) "
   ]
  },
  {
   "cell_type": "code",
   "execution_count": 18,
   "metadata": {},
   "outputs": [
    {
     "name": "stderr",
     "output_type": "stream",
     "text": [
      "INFO:futureexpert.expert_client:Preparing data for forecast...\n",
      "INFO:futureexpert.expert_client:Finished data preparation for forecast.\n",
      "INFO:futureexpert.expert_client:Started creating forecasting report with FORECAST...\n",
      "INFO:futureexpert.expert_client:Report created with ID 131221. Forecasts are running...\n"
     ]
    },
    {
     "name": "stdout",
     "output_type": "stream",
     "text": [
      "report_id=131221 settings_id=131246\n"
     ]
    }
   ],
   "source": [
    "from futureexpert import ForecastingConfig, MethodSelectionConfig, PreprocessingConfig, ReportConfig\n",
    "fc_methods = ['LinearRegression','Naive', 'MA(granularity)','MA(3)', 'MA(season lag)','FoundationModel']\n",
    "fc_report_config = ReportConfig(title='Monthly Sales Forecast on Multiple Hierarchical Levels',\n",
    "                                preprocessing=PreprocessingConfig(detect_outliers=True,\n",
    "                                                                  replace_outliers=True,\n",
    "                                                                  detect_changepoints=True),\n",
    "                                forecasting=ForecastingConfig(fc_horizon=12,\n",
    "                                                              lower_bound=0,\n",
    "                                                              use_ensemble=False,\n",
    "                                                              confidence_level=0.90),\n",
    "                                method_selection=MethodSelectionConfig(number_iterations=12,\n",
    "                                                                       refit=True,\n",
    "                                                                       step_weights={1:1., 2:1., 3:1., 4:0.5, 5:0.5, 6:0.5},\n",
    "                                                                       forecasting_methods=fc_methods),\n",
    "                                max_ts_len=72)\n",
    "\n",
    "forecast_identifier = client.start_forecast(version=actuals_version_id, config=fc_report_config)\n",
    "print(forecast_identifier)"
   ]
  },
  {
   "cell_type": "code",
   "execution_count": null,
   "metadata": {},
   "outputs": [
    {
     "name": "stdout",
     "output_type": "stream",
     "text": [
      "Status forecasting report for id: report_id=131221 settings_id=131246\n",
      " 100 % are finished \n",
      " 10 time series requested for calculation \n",
      " 10 time series finished \n",
      " 0 time series without evaluation \n",
      " 0 time series ran into an error\n"
     ]
    }
   ],
   "source": [
    "\n",
    "# Watch the current status of the forecasting report\n",
    "while not (current_status := client.get_report_status(id=forecast_identifier)).is_finished:\n",
    "    time.sleep(20)  # Wait between status requests\n",
    "# Retrieve the results of the forecasting report\n",
    "current_status.print()"
   ]
  },
  {
   "cell_type": "code",
   "execution_count": 22,
   "metadata": {},
   "outputs": [],
   "source": [
    "results = client.get_fc_results(id=forecast_identifier , include_backtesting=True, include_k_best_models=3)\n",
    "results.sort(key=lambda x: x.input.actuals.name)"
   ]
  },
  {
   "cell_type": "markdown",
   "metadata": {},
   "source": [
    "### Forecast results\n",
    "\n",
    "The forecasts were created seperately for each time series. Because they were created independently the sum of the hierarchical levels (Global, Region and Country) can be slightly inconsistent. This ambiguity hinders planing processes."
   ]
  },
  {
   "cell_type": "code",
   "execution_count": null,
   "metadata": {},
   "outputs": [],
   "source": [
    "from futureexpert.forecast import export_forecasts_to_pandas\n",
    "forecasts_df = export_forecasts_to_pandas(results)\n",
    "forecasts_df_june = forecasts_df[forecasts_df.time_stamp_utc == forecasts_df.time_stamp_utc.iloc[0]]"
   ]
  },
  {
   "cell_type": "code",
   "execution_count": null,
   "metadata": {},
   "outputs": [],
   "source": [
    "global_sales = forecasts_df_june[forecasts_df_june.name == 'Sales'].point_forecast_value.iloc[0]\n",
    "europe_sales = forecasts_df_june[forecasts_df_june.name == 'Sales-Europe'].point_forecast_value.iloc[0]\n",
    "na_sales = forecasts_df_june[forecasts_df_june.name == 'Sales-North America'].point_forecast_value.iloc[0]\n",
    "if global_sales != europe_sales + na_sales:\n",
    "    print('Sales on region level is incosistent to global level!')"
   ]
  },
  {
   "cell_type": "markdown",
   "metadata": {},
   "source": [
    "## Make forecasts consistent"
   ]
  },
  {
   "cell_type": "markdown",
   "metadata": {},
   "source": [
    "The process of making time series hierarchically consistent is called hierarchical reconciliation.\n",
    "- We need to specify which actuals and which hierarchically inconsistent forecast is the basis of the reconciliation.\n",
    "- Then we need to specify the specific reconciliation method."
   ]
  },
  {
   "cell_type": "code",
   "execution_count": null,
   "metadata": {},
   "outputs": [],
   "source": [
    "from futureexpert import MakeForecastConsistentConfiguration, ReconciliationConfig, MakeForecastConsistentDataSelection, ReconciliationMethod\n",
    "from futureexpert.make_forecast_consistent import export_consistent_forecasts_to_pandas"
   ]
  },
  {
   "cell_type": "code",
   "execution_count": null,
   "metadata": {},
   "outputs": [],
   "source": [
    "data_selection = MakeForecastConsistentDataSelection(\n",
    "    version=actuals_version_id,\n",
    "    fc_report_id=forecast_identifier.report_id\n",
    ")\n",
    "hcfc_config = ReconciliationConfig(\n",
    "    method=ReconciliationMethod.MIN_TRACE_WLS_STRUCT,\n",
    "    fallback_methods=[],\n",
    ")\n",
    "hcfc_run_config = MakeForecastConsistentConfiguration(\n",
    "    data_selection=data_selection,\n",
    "    report_note=\"My hierarchical forecasting report\",\n",
    "    reconciliation=hcfc_config\n",
    ")"
   ]
  },
  {
   "cell_type": "code",
   "execution_count": null,
   "metadata": {},
   "outputs": [
    {
     "name": "stderr",
     "output_type": "stream",
     "text": [
      "INFO:futureexpert.expert_client:Preparing data for forecast consistency...\n",
      "INFO:futureexpert.expert_client:Finished data preparation for forecast consistency.\n",
      "INFO:futureexpert.expert_client:Started creating hierarchical reconciliation for consistent forecasts...\n",
      "INFO:futureexpert.expert_client:Report created with ID 131228. Reconciliation is running...\n"
     ]
    },
    {
     "data": {
      "text/plain": [
       "ReportIdentifier(report_id=131228, settings_id=131253)"
      ]
     },
     "execution_count": 52,
     "metadata": {},
     "output_type": "execute_result"
    }
   ],
   "source": [
    "report_id = client.start_making_forecast_consistent(hcfc_run_config)\n",
    "hcfc_results = client.get_consistent_forecast_results(report_id)"
   ]
  },
  {
   "cell_type": "code",
   "execution_count": 58,
   "metadata": {},
   "outputs": [],
   "source": [
    "consistent_fc_df = export_consistent_forecasts_to_pandas(hcfc_results)\n",
    "consistent_fc_df_june = consistent_fc_df[consistent_fc_df.time_stamp_utc == consistent_fc_df.time_stamp_utc.iloc[0]]"
   ]
  },
  {
   "cell_type": "code",
   "execution_count": 60,
   "metadata": {},
   "outputs": [
    {
     "name": "stdout",
     "output_type": "stream",
     "text": [
      "Sucessfully created consistent forecasts!\n"
     ]
    }
   ],
   "source": [
    "global_sales = consistent_fc_df_june[consistent_fc_df_june.name == 'Sales'].point_forecast_value.iloc[0]\n",
    "europe_sales = consistent_fc_df_june[consistent_fc_df_june.name == 'Sales-Europe'].point_forecast_value.iloc[0]\n",
    "na_sales = consistent_fc_df_june[consistent_fc_df_june.name == 'Sales-North America'].point_forecast_value.iloc[0]\n",
    "assert global_sales == europe_sales + na_sales, ('Sales on region level is incosistent to global level!')\n",
    "print('Sucessfully created consistent forecasts!')"
   ]
  }
 ],
 "metadata": {
  "kernelspec": {
   "display_name": "Python 3",
   "language": "python",
   "name": "python3"
  },
  "language_info": {
   "codemirror_mode": {
    "name": "ipython",
    "version": 3
   },
   "file_extension": ".py",
   "mimetype": "text/x-python",
   "name": "python",
   "nbconvert_exporter": "python",
   "pygments_lexer": "ipython3",
   "version": "3.12.10"
  }
 },
 "nbformat": 4,
 "nbformat_minor": 2
}

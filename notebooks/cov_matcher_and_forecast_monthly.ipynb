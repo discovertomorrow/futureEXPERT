{
 "cells": [
  {
   "cell_type": "markdown",
   "metadata": {},
   "source": [
    "# Monthly forecasts using economical indicators as covariates\n",
    "In this example, we have sales data for which we want to create monthly forecasts. We also have a set of macro-economic indicators, which we expect to influence the future sales strongly. We want to know which of these indicators improve the forecast the most and then want to create forecasts for 10 months using these indicators.\n",
    "We need to do the following:\n",
    "\n",
    "1. Preprocess data and create time series for both the covariates and the forecasting object (_CHECK-IN_).\n",
    "    - For a first impression, we want to exclude the \"Consumer index\".\n",
    "2. Find the best lags for each covariate (_MATCHER_).see the notebook\n",
    "3. Create forecasts (_FORECAST_).\n",
    "\n",
    "\n",
    "For detailed documentation on the functionality, limitations and configurations of _MATCHER_, see the notebook [Cov MATCHER and FORECAST](notebooks/cov_matcher_and_forecast.ipynb).\n",
    "\n",
    "For general documentation on _EXPERT_ (user credentials, _CHECK-IN_, _FORECAST_, ...) see the notebook [Getting Started](getting_started.ipynb)."
   ]
  },
  {
   "cell_type": "markdown",
   "metadata": {},
   "source": [
    "# Initialize client"
   ]
  },
  {
   "cell_type": "code",
   "execution_count": null,
   "metadata": {},
   "outputs": [],
   "source": [
    "from futureexpert import (DataDefinition,\n",
    "                          ExpertClient,\n",
    "                          FileSpecification,\n",
    "                          FilterSettings,\n",
    "                          ForecastingConfig,\n",
    "                          LagSelectionConfig,\n",
    "                          MatcherConfig,\n",
    "                          MethodSelectionConfig,\n",
    "                          ReportConfig,\n",
    "                          TsCreationConfig)\n",
    "\n",
    "client = ExpertClient(user='', password='')"
   ]
  },
  {
   "cell_type": "markdown",
   "metadata": {},
   "source": [
    "# Step 1: Prepare timeseries with _CHECK-IN_\n",
    "We prepare time series from the raw data using _CHECK-IN_. We need to make sure that\n",
    "- the columns are defined correctly (date, value, and group columns).\n",
    "- The data formats are correct (delimiter, decimal, date format).\n",
    "- The covariates and the forecasting object do not have any missing values after the preparation (otherwise _MATCHER_ will not be able to calculate a result).\n",
    "- All covariates and the forecasting object share the same granularity (in this case: monthly).\n",
    "- The forecasting object has at least 78 data points.\n",
    "- All covariates have at least 96 data points.\n",
    "- A single file or data frame contains all covariates."
   ]
  },
  {
   "cell_type": "code",
   "execution_count": null,
   "metadata": {},
   "outputs": [],
   "source": [
    "import futureexpert.checkin as checkin\n",
    "\n",
    "# check in covariates\n",
    "covs_check_in_results = client.check_in_time_series(raw_data_source='../example_data/monthly_business_inds.csv',\n",
    "                                                    data_definition=DataDefinition(date_columns=checkin.DateColumn(name='time', format='%Y-%m-%d'),\n",
    "                                                                                   value_columns=[\n",
    "                                                                                       checkin.ValueColumn(name='value')],\n",
    "                                                                                   group_columns=[checkin.GroupColumn(name=\"name\")]),\n",
    "                                                    config_ts_creation=TsCreationConfig(time_granularity='monthly',\n",
    "                                                                                        value_columns_to_save=['value'],\n",
    "                                                                                        grouping_level=[\"name\"],\n",
    "                                                                                        missing_value_handler=\"setToZero\",\n",
    "                                                                                        start_date=\"2007-01-01\",\n",
    "                                                                                        filter=[FilterSettings(type=\"exclusion\", variable=\"name\", items=[\"Consumer index\"])]),\n",
    "                                                    file_specification=FileSpecification(delimiter=',', decimal='.'))"
   ]
  },
  {
   "cell_type": "code",
   "execution_count": null,
   "metadata": {},
   "outputs": [],
   "source": [
    "# check in ts\n",
    "ts_check_in_results = client.check_in_time_series(raw_data_source='../example_data/example_customer_data.csv',\n",
    "                                                  data_definition=DataDefinition(date_columns=checkin.DateColumn(name='month_start', format='%Y-%m-%d'),\n",
    "                                                                                 value_columns=[checkin.ValueColumn(name='value')]),\n",
    "                                                  config_ts_creation=TsCreationConfig(time_granularity='monthly',\n",
    "                                                                                      start_date=\"2008-01-01\",\n",
    "                                                                                      value_columns_to_save=['value']),\n",
    "                                                  file_specification=FileSpecification(delimiter=',', decimal='.'))"
   ]
  },
  {
   "cell_type": "markdown",
   "metadata": {},
   "source": [
    "# Find the best lags per covariate using _MATCHER_\n",
    "\n",
    "We use a lag selection of lags between 0 and 6 instead of the default for monthly data being -2 to 6."
   ]
  },
  {
   "cell_type": "code",
   "execution_count": null,
   "metadata": {},
   "outputs": [],
   "source": [
    "config_matcher = MatcherConfig(title='Covariate selection for sales data and macro-economic indicators',\n",
    "                               actuals_version=ts_check_in_results.version_id,\n",
    "                               covs_versions=[covs_check_in_results.version_id],\n",
    "                               lag_selection=LagSelectionConfig(min_lag=0, max_lag=6))\n",
    "\n",
    "matcher_identifier = client.start_matcher(config=config_matcher)"
   ]
  },
  {
   "cell_type": "markdown",
   "metadata": {},
   "source": [
    "# Results of covariate selection\n",
    "\n",
    "Now we wait for the jobs to be finished. We then get the results via `matcher_identifier`."
   ]
  },
  {
   "cell_type": "code",
   "execution_count": null,
   "metadata": {},
   "outputs": [],
   "source": [
    "import time\n",
    "\n",
    "# Watch the current status of the matcher report\n",
    "while not (current_status := client.get_report_status(id=matcher_identifier, include_error_reason=True)).is_finished:\n",
    "    time.sleep(10)  # Wait between status requests\n",
    "\n",
    "current_status.print()\n",
    "\n",
    "results = client.get_matcher_results(matcher_identifier)"
   ]
  },
  {
   "cell_type": "markdown",
   "metadata": {},
   "source": [
    "## Check results\n",
    "Now we take a look at the ranking of the indicators. As expected, some of the indicators outperform the benchmark model. That means we can expect the indicators to improve the forecasts in a meaningful way."
   ]
  },
  {
   "cell_type": "code",
   "execution_count": null,
   "metadata": {},
   "outputs": [],
   "source": [
    "for ts_result in results:\n",
    "    for r in ts_result.ranking:\n",
    "        print(r)"
   ]
  },
  {
   "cell_type": "markdown",
   "metadata": {},
   "source": [
    "# Create a forecast with _FORECAST_\n",
    "Now we use the `report_id` of _MATCHER_, the `version_id` of the checked in covariates and the `version_id` of the checked in time series to create forecasts for the next 10 months using the indicators. Also, relying on the assumption that all covariates influence the forecast, we include the ensembling-strategy to create forecasts based on all* models.\n",
    "\n",
    "\n",
    "**Not all forecasting models necessarily go into the final result of the ensemble-strategy. There are a few intrinsic checks and selections that further improve the accuracy.*"
   ]
  },
  {
   "cell_type": "code",
   "execution_count": null,
   "metadata": {},
   "outputs": [],
   "source": [
    "fc_report_config = ReportConfig(title='Test fc with cov selection',\n",
    "                                forecasting=ForecastingConfig(fc_horizon=6, use_ensemble=True),\n",
    "                                method_selection=MethodSelectionConfig(number_iterations=8),\n",
    "                                matcher_report_id=matcher_identifier.report_id,\n",
    "                                covs_versions=[covs_check_in_results.version_id])\n",
    "\n",
    "forecast_identifier = client.start_forecast(version=ts_check_in_results.version_id, config=fc_report_config)\n",
    "# Watch the current status of the forecasting report\n",
    "while not (current_status := client.get_report_status(id=forecast_identifier)).is_finished:\n",
    "    time.sleep(10)  # Wait between status requests\n",
    "\n",
    "# Retrieve the final results\n",
    "results = client.get_fc_results(id=forecast_identifier, include_backtesting=True, include_k_best_models=100)"
   ]
  },
  {
   "cell_type": "markdown",
   "metadata": {},
   "source": [
    "## Overview of model ranking\n",
    "Now we can look at the rank of all models that created plausible forecasts. Here we can also already see the ranks of the models that used covariates. In this case, the model using the \"afo\" covariate won. The model using the Business Index covariate is on rank 3. Both forecasts with a covariate use the model **ExtendedCov**, which makes sure that the indicator influences all forecast steps. Ensemble, so a combination of all the best models, is on rank 4. "
   ]
  },
  {
   "cell_type": "code",
   "execution_count": null,
   "metadata": {},
   "outputs": [],
   "source": [
    "for ts_result in results:\n",
    "    for mo in ts_result.models:\n",
    "        print(f'{mo.model_name}({mo.model_selection.ranking}): {mo.covariates}')"
   ]
  },
  {
   "cell_type": "markdown",
   "metadata": {},
   "source": [
    "# Visualize the results\n",
    "Use the plot functionality to inspect the results. We can find the information about the used covariates per forecasting model in the title of the plot. We only focus on the best ten models based on their ranking."
   ]
  },
  {
   "cell_type": "code",
   "execution_count": null,
   "metadata": {},
   "outputs": [],
   "source": [
    "from futureexpert import plot\n",
    "\n",
    "forecasts = results[0]\n",
    "plot.plot_forecast(forecasts, plot_last_x_data_points_only=365, ranks=range(10))"
   ]
  }
 ],
 "metadata": {
  "kernelspec": {
   "display_name": "Python 3",
   "language": "python",
   "name": "python3"
  },
  "language_info": {
   "codemirror_mode": {
    "name": "ipython",
    "version": 3
   },
   "file_extension": ".py",
   "mimetype": "text/x-python",
   "name": "python",
   "nbconvert_exporter": "python",
   "pygments_lexer": "ipython3",
   "version": "3.12.6"
  }
 },
 "nbformat": 4,
 "nbformat_minor": 2
}

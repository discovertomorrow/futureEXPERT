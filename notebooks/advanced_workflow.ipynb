{
 "cells": [
  {
   "cell_type": "markdown",
   "metadata": {},
   "source": [
    "# _EXPERT_ usage reference: Advanced stepwise invocation"
   ]
  },
  {
   "cell_type": "markdown",
   "metadata": {},
   "source": [
    "## Log in to the _EXPERT_-client\n",
    "_EXPERT_ needs credentials for authentication. In order to log in, you create an authenticated client which handles all interactions with the _future_ platform.\n",
    "\n",
    "If you are using _EXPERT_ for the first time, we recommend that you begin with [Getting Started](getting_started.ipynb)."
   ]
  },
  {
   "cell_type": "code",
   "execution_count": null,
   "metadata": {},
   "outputs": [],
   "source": [
    "from futureexpert import (DataDefinition,\n",
    "                          ExpertClient,\n",
    "                          FileSpecification,\n",
    "                          ForecastingConfig,\n",
    "                          ReportConfig,\n",
    "                          TsCreationConfig)\n",
    "\n",
    "client = ExpertClient(user='', password='')"
   ]
  },
  {
   "cell_type": "markdown",
   "metadata": {},
   "source": [
    "## Run each step manually\n",
    "\n",
    "Calling `client.start_forecast_from_raw_data` invokes the whole pipeline comprising several steps.\n",
    "\n",
    "Alternatively, you can run each step individually in order to get intermediate results and fast feedback."
   ]
  },
  {
   "cell_type": "markdown",
   "metadata": {},
   "source": [
    "### Select your raw data\n",
    "\n",
    "There are two possible options:\n",
    "- upload new data to future, or\n",
    "- use data that has already been uploaded."
   ]
  },
  {
   "cell_type": "code",
   "execution_count": null,
   "metadata": {},
   "outputs": [],
   "source": [
    "import pprint\n",
    "pp = pprint.PrettyPrinter(indent=4)  # Some basic formatting configuration for notebook/console output."
   ]
  },
  {
   "cell_type": "code",
   "execution_count": null,
   "metadata": {},
   "outputs": [],
   "source": [
    "# upload new data to future\n",
    "upload_feedback = client.upload_data(source='../example_data/example_data.csv')\n",
    "pp.pprint(upload_feedback)"
   ]
  },
  {
   "cell_type": "code",
   "execution_count": null,
   "metadata": {},
   "outputs": [],
   "source": [
    "# receive all files you have already uploaded\n",
    "input_data = client.api_client.get_user_inputs_for_group(client.group)\n",
    "pp.pprint(input_data)"
   ]
  },
  {
   "cell_type": "markdown",
   "metadata": {},
   "source": [
    "### Data preparation\n",
    "\n",
    "Data preparation comprises two steps:\n",
    "- a data defintion check, which checks if your date fits the given definiton, and\n",
    "- time series creation, which creates the time series that will be used for the forecasting."
   ]
  },
  {
   "cell_type": "code",
   "execution_count": null,
   "metadata": {},
   "outputs": [],
   "source": [
    "import futureexpert.checkin as checkin\n",
    "\n",
    "data_definition = DataDefinition(remove_rows=[],\n",
    "                                 remove_columns=[],\n",
    "                                 date_column=checkin.DateColumn(name='Date', format='%d.%m.%Y'),\n",
    "                                 value_columns=[checkin.ValueColumn(name='Umsatz', name_new='Sales')],\n",
    "                                 group_columns=[checkin.GroupColumn(name='land', name_new='Country')])\n",
    "\n",
    "user_input_id = upload_feedback['uuid']\n",
    "file_id = upload_feedback['files'][0]['uuid']\n",
    "\n",
    "data_definition_feedback = client.check_data_definition(user_input_id=user_input_id,\n",
    "                                                        file_uuid=file_id,\n",
    "                                                        data_definition=data_definition,\n",
    "                                                        file_specification=FileSpecification(delimiter=\";\"))\n",
    "pp.pprint(data_definition_feedback)"
   ]
  },
  {
   "cell_type": "code",
   "execution_count": null,
   "metadata": {},
   "outputs": [],
   "source": [
    "config_ts_creation = TsCreationConfig(time_granularity='monthly', value_columns_to_save=[\n",
    "                                      'Sales'], missing_value_handler='setToZero')\n",
    "\n",
    "create_ts_feedback = client.create_time_series(user_input_id=user_input_id,\n",
    "                                               file_uuid=file_id,\n",
    "                                               data_definition=data_definition,\n",
    "                                               config_ts_creation=config_ts_creation,\n",
    "                                               file_specification=FileSpecification(delimiter=\";\"))\n",
    "pp.pprint(create_ts_feedback)"
   ]
  },
  {
   "cell_type": "markdown",
   "metadata": {},
   "source": [
    "### Start the forecast\n",
    "\n",
    "To start the forecast, you need to give\n",
    "- the time series identification number, received from the time series creation task, and\n",
    "- the report configuration."
   ]
  },
  {
   "cell_type": "code",
   "execution_count": null,
   "metadata": {},
   "outputs": [],
   "source": [
    "fc_report_config = ReportConfig(title='My first report', forecasting=ForecastingConfig(fc_horizon=5))\n",
    "\n",
    "version = create_ts_feedback['result']['tsVersion']\n",
    "forecast_identifier = client.start_forecast(version=version, config=fc_report_config)"
   ]
  },
  {
   "cell_type": "markdown",
   "metadata": {},
   "source": [
    "### See the list of reports\n",
    "\n",
    "In the meantime, you can list your reports, including the one you just requested."
   ]
  },
  {
   "cell_type": "code",
   "execution_count": null,
   "metadata": {},
   "outputs": [],
   "source": [
    "client.get_reports(limit=1)"
   ]
  },
  {
   "cell_type": "markdown",
   "metadata": {},
   "source": [
    "## Inspect the forecasting results"
   ]
  },
  {
   "cell_type": "code",
   "execution_count": null,
   "metadata": {},
   "outputs": [],
   "source": [
    "import time\n",
    "\n",
    "while not (current_status := client.get_report_status(id=forecast_identifier)).is_finished:\n",
    "    current_status.print()\n",
    "    print('Waiting another 30 seconds to finish forecasting...')\n",
    "    time.sleep(30)  # Wait between status requests\n",
    "\n",
    "# Retrieve the final results\n",
    "results_from_version_id = client.get_fc_results(\n",
    "    id=forecast_identifier, include_backtesting=True, include_k_best_models=2)\n"
   ]
  }
 ],
 "metadata": {
  "kernelspec": {
   "display_name": "Python 3",
   "language": "python",
   "name": "python3"
  },
  "language_info": {
   "codemirror_mode": {
    "name": "ipython",
    "version": 3
   },
   "file_extension": ".py",
   "mimetype": "text/x-python",
   "name": "python",
   "nbconvert_exporter": "python",
   "pygments_lexer": "ipython3",
   "version": "3.12.11"
  }
 },
 "nbformat": 4,
 "nbformat_minor": 2
}

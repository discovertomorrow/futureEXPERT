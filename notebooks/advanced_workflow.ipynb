{
 "cells": [
  {
   "cell_type": "markdown",
   "metadata": {},
   "source": [
    "# futureEXPERT usage reference: Advanced stepwise invocation"
   ]
  },
  {
   "cell_type": "markdown",
   "metadata": {},
   "source": [
    "## Login and expert client\n",
    "futureEXPERT needs credentials for authentication. In order to log in, you create an authenticated client which handles all interactions with the future platform.\n",
    "\n",
    "If you do not have an account for future yet, you can apply for a trial account [here](https://www.prognostica.de/de/future.html).\n",
    "\n",
    "Additionally, if you are not subscribed for futureEXPERT, please contact us at support@future.prognostica.de\n",
    "\n",
    "If you are using futureEXPERT for the first time, we recommend that you start with [Getting Started](simple_workflow.ipynb)"
   ]
  },
  {
   "cell_type": "code",
   "execution_count": null,
   "metadata": {},
   "outputs": [],
   "source": [
    "from futureexpert import ExpertClient\n",
    "\n",
    "# You can provide your credentials from an .env file (see .env.example)\n",
    "import dotenv\n",
    "dotenv.load_dotenv()\n",
    "\n",
    "# Log in using your credentials or alternatively provide FUTURE_USER and FUTURE_PW via environment variables or .env file\n",
    "client = ExpertClient(user='', password='')"
   ]
  },
  {
   "cell_type": "markdown",
   "metadata": {},
   "source": [
    "## Run each step manually\n",
    "\n",
    "Calling `client.create_forecast_from_raw_data` invokes a whole pipeline with several steps.\n",
    "\n",
    "Instead, you can run each step individually in order to get intermediate results and fast feedback."
   ]
  },
  {
   "cell_type": "markdown",
   "metadata": {},
   "source": [
    "### Select your raw data\n",
    "\n",
    "Two possible options:\n",
    "- upload new data to future\n",
    "- use already uploaded data"
   ]
  },
  {
   "cell_type": "code",
   "execution_count": null,
   "metadata": {},
   "outputs": [],
   "source": [
    "import pprint\n",
    "pp = pprint.PrettyPrinter(indent=4)  # Some basic formatting configuration for notebook/console output."
   ]
  },
  {
   "cell_type": "code",
   "execution_count": null,
   "metadata": {},
   "outputs": [],
   "source": [
    "# upload new data to future\n",
    "upload_feedback = client.upload_data(source='../example-data/example_data.csv')\n",
    "pp.pprint(upload_feedback)"
   ]
  },
  {
   "cell_type": "code",
   "execution_count": null,
   "metadata": {},
   "outputs": [],
   "source": [
    "# receive all files you have already uploaded\n",
    "input_data = client.client.get_user_inputs_for_group(client.group)\n",
    "pp.pprint(input_data)"
   ]
  },
  {
   "cell_type": "markdown",
   "metadata": {},
   "source": [
    "### Data preparation\n",
    "\n",
    "The data preparation is divided into two steps:\n",
    "- data defintion: checks if your date fits the given definiton \n",
    "- time series creation: creates the time series that will be used for the forecasting"
   ]
  },
  {
   "cell_type": "code",
   "execution_count": null,
   "metadata": {},
   "outputs": [],
   "source": [
    "from futureexpert import *\n",
    "\n",
    "data_definition = DataDefinition(remove_rows=[],\n",
    "                                 remove_columns=[],\n",
    "                                 date_columns=DateColumn(name='Date', format='%d.%m.%Y'),\n",
    "                                 value_columns=[ValueColumn(name='Umsatz')],\n",
    "                                 group_columns=[GroupColumn(name='land')])\n",
    "\n",
    "user_input_id = upload_feedback['uuid']\n",
    "file_id = upload_feedback['files'][0]['uuid']\n",
    "\n",
    "data_definition_feedback = client.check_data_definition(user_input_id=user_input_id,\n",
    "                                                        file_uuid=file_id,\n",
    "                                                        data_definition=data_definition,\n",
    "                                                        file_specification=FileSpecification(delimiter=\";\"))\n",
    "pp.pprint(data_definition_feedback)"
   ]
  },
  {
   "cell_type": "code",
   "execution_count": null,
   "metadata": {},
   "outputs": [],
   "source": [
    "config_ts_creation = TsCreationConfig(timeGranularity='monthly', valueColumnsToSave=[\n",
    "                                      'Umsatz'], missingValueHandler='setToZero')\n",
    "\n",
    "create_ts_feedback = client.create_time_series(config_ts_creation)\n",
    "pp.pprint(create_ts_feedback)"
   ]
  },
  {
   "cell_type": "markdown",
   "metadata": {},
   "source": [
    "### Start the forecast\n",
    "\n",
    "The time series identification number received from the time series creation task are needed as input as well as the report configuration."
   ]
  },
  {
   "cell_type": "code",
   "execution_count": null,
   "metadata": {},
   "outputs": [],
   "source": [
    "fc_report_config = ReportConfig(title='My first report', forecasting=ForecastingConfig(fc_horizon=5))\n",
    "\n",
    "version = create_ts_feedback['result']['tsVersion']['_id']\n",
    "forecast_identifier = client.start_forecast(version=version, config=fc_report_config)"
   ]
  }
 ],
 "metadata": {
  "kernelspec": {
   "display_name": "Python 3",
   "language": "python",
   "name": "python3"
  },
  "language_info": {
   "codemirror_mode": {
    "name": "ipython",
    "version": 3
   },
   "file_extension": ".py",
   "mimetype": "text/x-python",
   "name": "python",
   "nbconvert_exporter": "python",
   "pygments_lexer": "ipython3",
   "version": "3.9.17"
  }
 },
 "nbformat": 4,
 "nbformat_minor": 2
}

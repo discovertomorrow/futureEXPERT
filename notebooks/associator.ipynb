{
 "cells": [
  {
   "cell_type": "markdown",
   "metadata": {},
   "source": [
    "# _ASSOCIATOR_"
   ]
  },
  {
   "cell_type": "markdown",
   "metadata": {},
   "source": [
    "The _ASSOCIATOR_ provides a high-level overview of numerous time series by identifying clusters of similar time series patterns. In addition, it analyzes the most recent trend behaviour of each time series, resulting in a clear trend categorization."
   ]
  },
  {
   "cell_type": "code",
   "execution_count": null,
   "metadata": {},
   "outputs": [],
   "source": [
    "from futureexpert import ExpertClient\n",
    "import dotenv\n",
    "\n",
    "dotenv.load_dotenv()\n",
    "client = ExpertClient()"
   ]
  },
  {
   "cell_type": "markdown",
   "metadata": {},
   "source": [
    "First, upload your data to the _future_ platform. You can do this using the `check_in_time_series` method. For further information how to upload your data, check the coresponding [check-in notebook](checkin_configuration_options.ipynb)"
   ]
  },
  {
   "cell_type": "code",
   "execution_count": null,
   "metadata": {},
   "outputs": [],
   "source": [
    "from futureexpert import DataDefinition, TsCreationConfig\n",
    "import futureexpert.checkin as checkin\n",
    "data_definition = DataDefinition(\n",
    "    value_columns=[\n",
    "        checkin.ValueColumn(name=\"Value\")\n",
    "    ],\n",
    "    group_columns=[checkin.GroupColumn(name=\"Index\")],\n",
    "    date_column=checkin.DateColumn(name=\"Date\", format=\"%Y-%m-%d\")\n",
    ")\n",
    "\n",
    "ts_creation_config = TsCreationConfig(\n",
    "    time_granularity=\"monthly\",\n",
    "    grouping_level=[\"Index\"],\n",
    "    value_columns_to_save=[\"Value\"],\n",
    ")\n",
    "\n",
    "version_id = client.check_in_time_series(\n",
    "    raw_data_source=\"../example_data/consumer_index.csv\",\n",
    "    data_definition=data_definition,\n",
    "    config_ts_creation=ts_creation_config,\n",
    ")"
   ]
  },
  {
   "cell_type": "markdown",
   "metadata": {},
   "source": [
    "Once the data is uploaded, you can start the _ASSOCIATOR_. For a minimal configuraion, provide the `version_id` and a `report_note`."
   ]
  },
  {
   "cell_type": "code",
   "execution_count": null,
   "metadata": {},
   "outputs": [],
   "source": [
    "from futureexpert import AssociatorConfig, DataSelection, ClusteringConfiguration\n",
    "config = AssociatorConfig(data_selection=DataSelection(version=version_id),\n",
    "                          clustering=ClusteringConfiguration(),\n",
    "                          report_note=\"Consumer Indicies Exploration\")\n",
    "associator_id = client.start_associator(config=config)"
   ]
  },
  {
   "cell_type": "markdown",
   "metadata": {},
   "source": [
    "Once the _ASSOCIATOR_ has finished, you can get the results using the function `get_associator_results`."
   ]
  },
  {
   "cell_type": "code",
   "execution_count": null,
   "metadata": {},
   "outputs": [],
   "source": [
    "from futureexpert.associator import export_associator_results_to_pandas\n",
    "results = client.get_associator_results(associator_id)\n",
    "export_associator_results_to_pandas(results)"
   ]
  },
  {
   "cell_type": "markdown",
   "metadata": {},
   "source": [
    "## Using _ASSOCIATOR_ Results in _MATCHER_\n",
    "\n",
    "The clustering results can be used in a post-selection step to refine the initial matcher ranking. This process condenses the output by removing redundant covariates.\n",
    "\n",
    "Specifically, if multiple covariates from the same cluster are selected with the same lag, only the highest-ranked covariate is retained. The others are discarded, based on the assumption that they provide similar information for forecasting. Additionally, this process helps to prevent multicollinearity among the covariates in the forecast models."
   ]
  },
  {
   "cell_type": "code",
   "execution_count": null,
   "metadata": {},
   "outputs": [],
   "source": [
    "sales_data_definition = DataDefinition(\n",
    "    value_columns=[checkin.ValueColumn(name='Sales')],\n",
    "    date_column=checkin.DateColumn(name='Date', format='%Y-%m-%d')\n",
    ")\n",
    "\n",
    "sales_ts_creation_config = TsCreationConfig(\n",
    "    time_granularity='monthly',\n",
    "    value_columns_to_save=['Sales']\n",
    ")\n",
    "\n",
    "actuals_version_id = client.check_in_time_series(\n",
    "    raw_data_source=\"../example_data/consumer_sales.csv\",\n",
    "    data_definition=sales_data_definition,\n",
    "    config_ts_creation=sales_ts_creation_config\n",
    ")"
   ]
  },
  {
   "cell_type": "code",
   "execution_count": null,
   "metadata": {},
   "outputs": [],
   "source": [
    "from futureexpert import MatcherConfig\n",
    "\n",
    "matcher_config = MatcherConfig(\n",
    "    actuals_version=actuals_version_id,\n",
    "    covs_versions=[version_id],\n",
    "    associator_report_id=associator_id.report_id,\n",
    "    use_clustering_results=True,\n",
    "    title='Consumer Sales Matcher with Associator Insights'\n",
    ")\n",
    "\n",
    "matcher_id = client.start_matcher(config=matcher_config)"
   ]
  },
  {
   "cell_type": "code",
   "execution_count": null,
   "metadata": {},
   "outputs": [],
   "source": [
    "import time\n",
    "\n",
    "# Watch the current status of the forecasting report\n",
    "while not (current_status := client.get_report_status(id=matcher_id)).is_finished:\n",
    "    current_status.print()\n",
    "    print('Waiting another 30 seconds to finish forecasting...')\n",
    "    time.sleep(30)  # Wait between status requests\n",
    "current_status.print()\n"
   ]
  },
  {
   "cell_type": "code",
   "execution_count": null,
   "metadata": {},
   "outputs": [],
   "source": [
    "matcher_results = client.get_matcher_results(matcher_id)"
   ]
  }
 ],
 "metadata": {
  "kernelspec": {
   "display_name": "Python 3",
   "language": "python",
   "name": "python3"
  },
  "language_info": {
   "codemirror_mode": {
    "name": "ipython",
    "version": 3
   },
   "file_extension": ".py",
   "mimetype": "text/x-python",
   "name": "python",
   "nbconvert_exporter": "python",
   "pygments_lexer": "ipython3",
   "version": "3.12.11"
  }
 },
 "nbformat": 4,
 "nbformat_minor": 2
}
